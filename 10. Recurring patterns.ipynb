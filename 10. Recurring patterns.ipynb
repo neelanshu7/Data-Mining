{
 "cells": [
  {
   "cell_type": "code",
   "execution_count": 2,
   "id": "a5f5e66c-8549-4299-a1cb-78132facde9d",
   "metadata": {},
   "outputs": [],
   "source": [
    "import networkx as nx\n",
    "from collections import defaultdict\n",
    "from itertools import combinations"
   ]
  },
  {
   "cell_type": "code",
   "execution_count": 3,
   "id": "4b81d86e-7c8c-44b4-bcb7-9de2acd13d06",
   "metadata": {},
   "outputs": [],
   "source": [
    "# Create a random graphs\n",
    "def create_graph_dataset():\n",
    "    G1 = nx.Graph()\n",
    "    G1.add_edges_from([(1, 2), (1, 3), (2, 3), (2, 4)])\n",
    "    \n",
    "    G2 = nx.Graph()\n",
    "    G2.add_edges_from([(1, 2), (1, 3), (2, 4), (4, 5)])\n",
    "    \n",
    "    G3 = nx.Graph()\n",
    "    G3.add_edges_from([(1, 2), (1, 3), (3, 4), (4, 5), (5, 6)])\n",
    "    \n",
    "    return [G1, G2, G3]"
   ]
  },
  {
   "cell_type": "code",
   "execution_count": 4,
   "id": "f6a1087a-93fd-498d-bd7b-35f5ca3204ab",
   "metadata": {},
   "outputs": [],
   "source": [
    "# Check if subgraph H is isomorphic to a subgraph in G\n",
    "def is_subgraph_isomorphic(G, H):\n",
    "    GM = nx.algorithms.isomorphism.GraphMatcher(G, H)\n",
    "    return GM.subgraph_is_isomorphic()"
   ]
  },
  {
   "cell_type": "code",
   "execution_count": 5,
   "id": "4982806e-55e2-437b-a1f5-d68eeb2b3474",
   "metadata": {},
   "outputs": [],
   "source": [
    "# Find candidate subgraphs of size k\n",
    "def find_candidate_subgraphs(graphs, k):\n",
    "    candidates = defaultdict(int)\n",
    "    for G in graphs:\n",
    "        nodes = list(G.nodes())\n",
    "        for comb in combinations(nodes, k):\n",
    "            subgraph = G.subgraph(comb)\n",
    "            for graph in graphs:\n",
    "                if is_subgraph_isomorphic(graph, subgraph):\n",
    "                    candidates[tuple(sorted(comb))] += 1\n",
    "    return candidates"
   ]
  },
  {
   "cell_type": "code",
   "execution_count": 6,
   "id": "18270af2-b3f1-4185-a2dd-1a38dee94681",
   "metadata": {},
   "outputs": [],
   "source": [
    "# Apriori-based Frequent Subgraph Mining\n",
    "def apriori_frequent_subgraph_mining(graphs, min_support=2):\n",
    "    frequent_subgraphs = []\n",
    "    k = 2  # Start with subgraphs of size 2 (edges)\n",
    "    \n",
    "    while True:\n",
    "        candidates = find_candidate_subgraphs(graphs, k)\n",
    "        # Filter subgraphs by minimum support\n",
    "        frequent = {subgraph: support for subgraph, support in candidates.items() if support >= min_support}\n",
    "        \n",
    "        if not frequent:\n",
    "            break\n",
    "        \n",
    "        frequent_subgraphs.append(frequent)\n",
    "        k += 1\n",
    "    \n",
    "    return frequent_subgraphs"
   ]
  },
  {
   "cell_type": "code",
   "execution_count": 7,
   "id": "bc7fba73-56ea-4a4d-bf8b-af1bcbd64ba7",
   "metadata": {},
   "outputs": [],
   "source": [
    "# Run the algorithm\n",
    "graphs = create_graph_dataset()\n",
    "frequent_subgraphs = apriori_frequent_subgraph_mining(graphs, min_support=2)"
   ]
  },
  {
   "cell_type": "code",
   "execution_count": 10,
   "id": "dbe4999b-a0d9-4a78-809f-427101238e38",
   "metadata": {},
   "outputs": [
    {
     "name": "stdout",
     "output_type": "stream",
     "text": [
      "\n",
      "Frequent Subgraphs of size 2:\n",
      "\n",
      "Subgraph (1, 2), Support: 9\n",
      "Subgraph (1, 3), Support: 9\n",
      "Subgraph (1, 4), Support: 9\n",
      "Subgraph (2, 3), Support: 9\n",
      "Subgraph (2, 4), Support: 9\n",
      "Subgraph (3, 4), Support: 9\n",
      "Subgraph (1, 5), Support: 6\n",
      "Subgraph (2, 5), Support: 6\n",
      "Subgraph (3, 5), Support: 6\n",
      "Subgraph (4, 5), Support: 6\n",
      "Subgraph (1, 6), Support: 3\n",
      "Subgraph (2, 6), Support: 3\n",
      "Subgraph (3, 6), Support: 3\n",
      "Subgraph (4, 6), Support: 3\n",
      "Subgraph (5, 6), Support: 3\n",
      "\n",
      "Frequent Subgraphs of size 3:\n",
      "\n",
      "Subgraph (1, 2, 3), Support: 7\n",
      "Subgraph (1, 2, 4), Support: 9\n",
      "Subgraph (1, 3, 4), Support: 9\n",
      "Subgraph (2, 3, 4), Support: 9\n",
      "Subgraph (1, 2, 5), Support: 6\n",
      "Subgraph (1, 3, 5), Support: 6\n",
      "Subgraph (1, 4, 5), Support: 6\n",
      "Subgraph (2, 3, 5), Support: 4\n",
      "Subgraph (2, 4, 5), Support: 6\n",
      "Subgraph (3, 4, 5), Support: 6\n",
      "Subgraph (1, 2, 6), Support: 3\n",
      "Subgraph (1, 3, 6), Support: 3\n",
      "Subgraph (1, 4, 6), Support: 2\n",
      "Subgraph (1, 5, 6), Support: 3\n",
      "Subgraph (2, 3, 6), Support: 2\n",
      "Subgraph (2, 4, 6), Support: 2\n",
      "Subgraph (2, 5, 6), Support: 3\n",
      "Subgraph (3, 4, 6), Support: 3\n",
      "Subgraph (3, 5, 6), Support: 3\n",
      "Subgraph (4, 5, 6), Support: 3\n",
      "\n",
      "Frequent Subgraphs of size 4:\n",
      "\n",
      "Subgraph (1, 2, 3, 4), Support: 5\n",
      "Subgraph (1, 2, 3, 5), Support: 4\n",
      "Subgraph (1, 2, 4, 5), Support: 4\n",
      "Subgraph (1, 3, 4, 5), Support: 4\n",
      "Subgraph (2, 3, 4, 5), Support: 4\n",
      "Subgraph (1, 2, 3, 6), Support: 2\n",
      "Subgraph (1, 2, 5, 6), Support: 2\n",
      "Subgraph (1, 3, 4, 6), Support: 2\n",
      "Subgraph (1, 3, 5, 6), Support: 2\n",
      "Subgraph (1, 4, 5, 6), Support: 2\n",
      "Subgraph (2, 4, 5, 6), Support: 2\n",
      "Subgraph (3, 4, 5, 6), Support: 2\n",
      "\n",
      "Frequent Subgraphs of size 5:\n",
      "\n",
      "Subgraph (1, 2, 3, 4, 5), Support: 4\n",
      "Subgraph (1, 3, 4, 5, 6), Support: 2\n"
     ]
    }
   ],
   "source": [
    "# Display the result\n",
    "for level, subgraphs in enumerate(frequent_subgraphs):\n",
    "    print(f\"\\nFrequent Subgraphs of size {level+2}:\\n\")\n",
    "    for subgraph, support in subgraphs.items():\n",
    "        print(f\"Subgraph {subgraph}, Support: {support}\")\n"
   ]
  },
  {
   "cell_type": "code",
   "execution_count": null,
   "id": "dc312039-32c6-4102-a3db-2ff18da243b5",
   "metadata": {},
   "outputs": [],
   "source": []
  }
 ],
 "metadata": {
  "kernelspec": {
   "display_name": "Python 3 (ipykernel)",
   "language": "python",
   "name": "python3"
  },
  "language_info": {
   "codemirror_mode": {
    "name": "ipython",
    "version": 3
   },
   "file_extension": ".py",
   "mimetype": "text/x-python",
   "name": "python",
   "nbconvert_exporter": "python",
   "pygments_lexer": "ipython3",
   "version": "3.12.4"
  }
 },
 "nbformat": 4,
 "nbformat_minor": 5
}
