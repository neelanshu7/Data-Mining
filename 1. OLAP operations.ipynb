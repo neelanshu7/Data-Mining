{
 "cells": [
  {
   "cell_type": "code",
   "execution_count": 1,
   "id": "ba64a6cd-d6bf-49d7-afe2-275d0afe271c",
   "metadata": {},
   "outputs": [
    {
     "name": "stdout",
     "output_type": "stream",
     "text": [
      "Product Dimension:\n",
      "    Product_ID Product_Name     Category   Brand\n",
      "0           1       Laptop  Electronics  BrandA\n",
      "1           2   Smartphone  Electronics  BrandB\n",
      "2           3       Tablet  Electronics  BrandC\n",
      "\n",
      "Time Dimension:\n",
      "    Time_ID       Date    Month Quarter  Year\n",
      "0        1 2023-01-01  January      Q1  2023\n",
      "1        2 2023-01-02  January      Q1  2023\n",
      "2        3 2023-01-03  January      Q1  2023\n",
      "\n",
      "Store Dimension:\n",
      "    Store_ID Store_Name Location Region\n",
      "0         1     StoreA    CityX  North\n",
      "1         2     StoreB    CityY  South\n",
      "2         3     StoreC    CityZ   West\n",
      "\n",
      "Sales Fact Table:\n",
      "    Sales_ID  Product_ID  Time_ID  Store_ID  Units_Sold  Revenue\n",
      "0         1           1        1         1          10     1000\n",
      "1         2           2        2         2          20     2000\n",
      "2         3           3        3         3          30     3000\n"
     ]
    }
   ],
   "source": [
    "import pandas as pd\n",
    "import numpy as np\n",
    "# Sample data for Product Dimension\n",
    "product_data = {\n",
    "    'Product_ID': [1, 2, 3],\n",
    "    'Product_Name': ['Laptop', 'Smartphone', 'Tablet'],\n",
    "    'Category': ['Electronics', 'Electronics', 'Electronics'],\n",
    "    'Brand': ['BrandA', 'BrandB', 'BrandC']\n",
    "}\n",
    "product_df = pd.DataFrame(product_data)\n",
    "# Sample data for Time Dimension\n",
    "time_data = {\n",
    "    'Time_ID': [1, 2, 3],\n",
    "    'Date': pd.date_range(start='2023-01-01', periods=3, freq='D'),\n",
    "    'Month': ['January', 'January', 'January'],\n",
    "    'Quarter': ['Q1', 'Q1', 'Q1'],\n",
    "    'Year': [2023, 2023, 2023]\n",
    "}\n",
    "time_df = pd.DataFrame(time_data)\n",
    "# Sample data for Store Dimension\n",
    "store_data = {\n",
    "    'Store_ID': [1, 2, 3],\n",
    "    'Store_Name': ['StoreA', 'StoreB', 'StoreC'],\n",
    "    'Location': ['CityX', 'CityY', 'CityZ'],\n",
    "    'Region': ['North', 'South', 'West']\n",
    "}\n",
    "store_df = pd.DataFrame(store_data)\n",
    "# Sample data for Sales Fact Table\n",
    "sales_data = {\n",
    "    'Sales_ID': [1, 2, 3],\n",
    "    'Product_ID': [1, 2, 3],\n",
    "    'Time_ID': [1, 2, 3],\n",
    "    'Store_ID': [1, 2, 3],\n",
    "    'Units_Sold': [10, 20, 30],\n",
    "    'Revenue': [1000, 2000, 3000]\n",
    "}\n",
    "sales_df = pd.DataFrame(sales_data)\n",
    "# Display the dataframes\n",
    "print(\"Product Dimension:\\n\", product_df)\n",
    "print(\"\\nTime Dimension:\\n\", time_df)\n",
    "print(\"\\nStore Dimension:\\n\", store_df)\n",
    "print(\"\\nSales Fact Table:\\n\", sales_df)\n"
   ]
  },
  {
   "cell_type": "code",
   "execution_count": 2,
   "id": "cd4408b7-eb27-418b-a1f2-94201cfd700f",
   "metadata": {},
   "outputs": [
    {
     "name": "stdout",
     "output_type": "stream",
     "text": [
      "Roll-up Operation Result:\n",
      "      Month  Year  Units_Sold  Revenue\n",
      "0  January  2023          60     6000\n",
      "\n",
      "\n",
      "Slice Operation Result:\n",
      "    Sales_ID  Product_ID  Time_ID  Store_ID  Units_Sold  Revenue       Date  \\\n",
      "0         1           1        1         1          10     1000 2023-01-01   \n",
      "1         2           2        2         2          20     2000 2023-01-02   \n",
      "2         3           3        3         3          30     3000 2023-01-03   \n",
      "\n",
      "     Month Quarter  Year  \n",
      "0  January      Q1  2023  \n",
      "1  January      Q1  2023  \n",
      "2  January      Q1  2023  \n",
      "\n",
      "\n",
      "Dice Operation Result:\n",
      "    Sales_ID  Product_ID  Time_ID  Store_ID  Units_Sold  Revenue       Date  \\\n",
      "0         1           1        1         1          10     1000 2023-01-01   \n",
      "1         2           2        2         2          20     2000 2023-01-02   \n",
      "\n",
      "     Month Quarter  Year Product_Name     Category   Brand Store_Name  \\\n",
      "0  January      Q1  2023       Laptop  Electronics  BrandA     StoreA   \n",
      "1  January      Q1  2023   Smartphone  Electronics  BrandB     StoreB   \n",
      "\n",
      "  Location Region  \n",
      "0    CityX  North  \n",
      "1    CityY  South  \n"
     ]
    }
   ],
   "source": [
    "# Roll-up on the Time Dimension from Date to Month\n",
    "rollup_df = sales_df.merge(time_df,on='Time_ID').groupby(['Month', 'Year']).agg({'Units_Sold': 'sum', 'Revenue': 'sum'}).reset_index()\n",
    "print(\"Roll-up Operation Result:\\n\", rollup_df)\n",
    "print('\\n')\n",
    "# Slice the data to include only the sales in January 2023\n",
    "slice_df = sales_df.merge(time_df, on='Time_ID').query(\"Month == 'January' and Year == 2023\")\n",
    "print(\"Slice Operation Result:\\n\", slice_df)\n",
    "print('\\n')\n",
    "# Dice the data to include sales for specific products and stores in January 2023\n",
    "dice_df = sales_df.merge(time_df, on='Time_ID').merge(product_df, on='Product_ID').merge(store_df, on='Store_ID').query(\n",
    "    \"Month == 'January' and Year == 2023 and Product_Name in ['Laptop', 'Smartphone'] and Store_Name in ['StoreA', 'StoreB']\")\n",
    "print(\"Dice Operation Result:\\n\", dice_df)\n"
   ]
  },
  {
   "cell_type": "code",
   "execution_count": 3,
   "id": "7cb1f0bf-f04c-4a96-b009-0d63dbba3674",
   "metadata": {},
   "outputs": [
    {
     "name": "stdout",
     "output_type": "stream",
     "text": [
      "Roll-down Operation Result:\n",
      "    index  Units_Sold  Revenue\n",
      "0    Day          10     1000\n",
      "1  Month          20     2000\n",
      "2   Year          30     3000\n"
     ]
    }
   ],
   "source": [
    "# Roll-down from Month level to Day level\n",
    "rolldown_df = sales_df.merge(time_df, on='Time_ID').groupby(['Day', 'Month', 'Year']).agg({'Units_Sold': 'sum', 'Revenue': 'sum'}).reset_index()\n",
    "print(\"Roll-down Operation Result:\\n\", rolldown_df)\n"
   ]
  },
  {
   "cell_type": "code",
   "execution_count": null,
   "id": "0ecf001b-a8ae-429d-909b-009f6bb31f9b",
   "metadata": {},
   "outputs": [],
   "source": []
  }
 ],
 "metadata": {
  "kernelspec": {
   "display_name": "Python 3 (ipykernel)",
   "language": "python",
   "name": "python3"
  },
  "language_info": {
   "codemirror_mode": {
    "name": "ipython",
    "version": 3
   },
   "file_extension": ".py",
   "mimetype": "text/x-python",
   "name": "python",
   "nbconvert_exporter": "python",
   "pygments_lexer": "ipython3",
   "version": "3.12.4"
  }
 },
 "nbformat": 4,
 "nbformat_minor": 5
}
