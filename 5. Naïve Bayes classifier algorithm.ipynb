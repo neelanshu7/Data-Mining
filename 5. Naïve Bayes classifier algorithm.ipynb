{
 "cells": [
  {
   "cell_type": "code",
   "execution_count": 1,
   "id": "2f758811-5346-412f-a547-ac0a23ab0538",
   "metadata": {
    "scrolled": true
   },
   "outputs": [
    {
     "name": "stdout",
     "output_type": "stream",
     "text": [
      "Sample Dataset:\n",
      "     outlook temperature humidity  windy playtennis\n",
      "0      sunny         hot     high  false         no\n",
      "1      sunny         hot     high   true         no\n",
      "2   overcast         hot   normal  false        yes\n",
      "3       rain        mild   normal  false        yes\n",
      "4       rain        mild     high  false         no\n",
      "5       rain        cool   normal   true        yes\n",
      "6   overcast        cool   normal   true        yes\n",
      "7      sunny        mild     high  false         no\n",
      "8      sunny        cool   normal   true        yes\n",
      "9       rain        mild   normal   true        yes\n",
      "10     sunny        mild   normal   true        yes\n",
      "11  overcast        mild     high  false        yes\n",
      "12  overcast        cool   normal   true         no\n"
     ]
    }
   ],
   "source": [
    "import pandas as pd\n",
    "\n",
    "# Sample dataset\n",
    "data = {\n",
    "    'outlook': ['sunny', 'sunny', 'overcast', 'rain', 'rain', 'rain', 'overcast', 'sunny', 'sunny', 'rain', 'sunny', 'overcast', 'overcast'],\n",
    "    'temperature': ['hot', 'hot', 'hot', 'mild', 'mild', 'cool', 'cool', 'mild', 'cool', 'mild', 'mild', 'mild', 'cool'],\n",
    "    'humidity': ['high', 'high', 'normal', 'normal', 'high', 'normal', 'normal', 'high', 'normal', 'normal', 'normal', 'high', 'normal'],\n",
    "    'windy': ['false', 'true', 'false', 'false', 'false', 'true', 'true', 'false', 'true', 'true', 'true', 'false', 'true'],\n",
    "    'playtennis': ['no', 'no', 'yes', 'yes', 'no', 'yes', 'yes', 'no', 'yes', 'yes', 'yes', 'yes', 'no']\n",
    "}\n",
    "\n",
    "# Convert the dictionary to a DataFrame\n",
    "df = pd.DataFrame(data)\n",
    "\n",
    "print(\"Sample Dataset:\")\n",
    "print(df)"
   ]
  },
  {
   "cell_type": "code",
   "execution_count": 9,
   "id": "0405ade4-fa8d-4282-bd3c-dc5a73bfef3a",
   "metadata": {},
   "outputs": [
    {
     "name": "stdout",
     "output_type": "stream",
     "text": [
      "{'outlook': 'sunny', 'temperature': 'mild', 'humidity': 'normal', 'windy': 'true'}\n"
     ]
    }
   ],
   "source": [
    "# Data to be classified\n",
    "X = {\n",
    "    'outlook': 'sunny',\n",
    "    'temperature': 'mild',\n",
    "    'humidity': 'normal',\n",
    "    'windy': 'strong'\n",
    "}\n",
    "\n",
    "# Convert 'windy' from 'strong' to 'true' for consistency with the dataset\n",
    "# X['windy'] = 'true' if X['windy'] == 'strong' else 'false'\n",
    "if X['windy']=='strong':\n",
    "    X['windy']='true'\n",
    "else:\n",
    "    X['windy']='false'\n",
    "\n",
    "print(X)"
   ]
  },
  {
   "cell_type": "code",
   "execution_count": 27,
   "id": "1910567c-0ebd-492d-9f00-c7146b225c35",
   "metadata": {},
   "outputs": [
    {
     "name": "stdout",
     "output_type": "stream",
     "text": [
      "playtennis\n",
      "yes    0.615385\n",
      "no     0.384615\n",
      "Name: proportion, dtype: float64\n",
      "yes\t 0.6153846153846154\n",
      "no\t 0.38461538461538464\n"
     ]
    }
   ],
   "source": [
    "\n",
    "# Calculate prior probabilities of the target class 'playtennis'\n",
    "prior_probs = df['playtennis'].value_counts(normalize=True)\n",
    "# `prior_probs` contains the probability of each class ('yes' or 'no') in the dataset\n",
    "print(prior_probs)\n",
    "# Prior Probabilities\n",
    "a=data['playtennis']\n",
    "for i in range(len(a)):\n",
    "    y=a.count('yes')\n",
    "    n=a.count('no')\n",
    "    pp_y=y/len(a)\n",
    "    pp_n=n/len(a)\n",
    "print(f\"yes\\t {pp_y}\")\n",
    "print(f\"no\\t {pp_n}\")"
   ]
  },
  {
   "cell_type": "code",
   "execution_count": 28,
   "id": "29231869-e3aa-4a95-b147-cab8d131347c",
   "metadata": {},
   "outputs": [
    {
     "name": "stdout",
     "output_type": "stream",
     "text": [
      "\n",
      "\n",
      "The classification result for X is: yes\n"
     ]
    }
   ],
   "source": [
    "# Initialize an empty dictionary to store likelihoods\n",
    "likelihoods = {}\n",
    "\n",
    "# Loop through each feature in the dataset\n",
    "for feature in ['outlook', 'temperature', 'humidity', 'windy']:\n",
    "    # Get unique values for the current feature\n",
    "    feature_values = df[feature].unique()\n",
    "    # Initialize an empty dictionary for storing likelihoods of the current feature\n",
    "    likelihoods[feature] = {}\n",
    "    # Loop through each unique value of the feature\n",
    "    for value in feature_values:\n",
    "        # Loop through each class in the target variable 'playtennis'\n",
    "        for playtennis in prior_probs.index:\n",
    "            # Calculate the likelihood of the feature value given the class\n",
    "            likelihood = (df[df['playtennis'] == playtennis][feature] == value).sum() / (df['playtennis'] == playtennis).sum()\n",
    "            # Store the calculated likelihood in the dictionary\n",
    "            likelihoods[feature][(value, playtennis)] = likelihood\n",
    "\n",
    "# Define a function to classify a new data point\n",
    "def classify(X, prior_probs, likelihoods):\n",
    "    # Initialize an empty dictionary to store posterior probabilities\n",
    "    post_probs = {}\n",
    "    # Loop through each class\n",
    "    for playtennis in prior_probs.index:\n",
    "        # Start with the prior probability of the class\n",
    "        prob = prior_probs[playtennis]\n",
    "        # Loop through each feature in the new data point\n",
    "        for feature in X:\n",
    "            # Update the probability by multiplying with the likelihood of the feature value given the class\n",
    "            prob *= likelihoods[feature].get((X[feature], playtennis), 1e-6)  # Use a small value for unseen feature values\n",
    "        # Store the posterior probability for the class\n",
    "        post_probs[playtennis] = prob\n",
    "    # Return the class with the highest posterior probability\n",
    "    return max(post_probs, key=post_probs.get)\n",
    "\n",
    "# Classify the new data point\n",
    "result = classify(X, prior_probs, likelihoods)\n",
    "# Print the classification result\n",
    "print(f\"\\n\\nThe classification result for X is: {result}\")"
   ]
  },
  {
   "cell_type": "code",
   "execution_count": null,
   "id": "0f13fbbd-d907-4295-b09a-0e44f26a655e",
   "metadata": {},
   "outputs": [],
   "source": []
  },
  {
   "cell_type": "code",
   "execution_count": 29,
   "id": "29d3c4d0-38b9-40e2-bf73-294ddaab6837",
   "metadata": {},
   "outputs": [
    {
     "name": "stdout",
     "output_type": "stream",
     "text": [
      "Predicted class for (Home Owner = Yes, Marital Status = Married, Income = 120K): No\n"
     ]
    }
   ],
   "source": [
    "#Naïve Bias Classification: \n",
    "import pandas as pd\n",
    "from sklearn.preprocessing import LabelEncoder\n",
    "from sklearn.naive_bayes import CategoricalNB\n",
    "import numpy as np\n",
    "\n",
    "# Data from the table\n",
    "data = {\n",
    "    'Home Owner': ['Yes', 'No', 'No', 'Yes', 'No', 'No', 'Yes', 'Yes', 'No', 'No'],\n",
    "    'Marital Status': ['Single', 'Married', 'Single', 'Married', 'Divorced', 'Married', 'Divorced', 'Divorced', 'Single', 'Single'],\n",
    "    'Annual Income': [125, 100, 70, 120, 95, 60, 220, 85, 75, 90],\n",
    "    'Defaulted Borrower': ['No', 'No', 'No', 'No', 'Yes', 'Yes', 'No', 'Yes', 'Yes', 'Yes']\n",
    "}\n",
    "\n",
    "# Create a DataFrame\n",
    "df = pd.DataFrame(data)\n",
    "\n",
    "# Encode the categorical features using LabelEncoder\n",
    "le_home_owner = LabelEncoder()\n",
    "le_marital_status = LabelEncoder()\n",
    "le_defaulted = LabelEncoder()\n",
    "\n",
    "df['Home Owner Encoded'] = le_home_owner.fit_transform(df['Home Owner'])\n",
    "df['Marital Status Encoded'] = le_marital_status.fit_transform(df['Marital Status'])\n",
    "df['Defaulted Borrower Encoded'] = le_defaulted.fit_transform(df['Defaulted Borrower'])\n",
    "\n",
    "# Features (Home Owner, Marital Status, Annual Income) and target (Defaulted Borrower)\n",
    "X = df[['Home Owner Encoded', 'Marital Status Encoded', 'Annual Income']].values\n",
    "y = df['Defaulted Borrower Encoded'].values\n",
    "\n",
    "# Train Naive Bayes classifier (CategoricalNB for categorical + GaussianNB for income)\n",
    "cat_nb = CategoricalNB()\n",
    "cat_nb.fit(X, y)\n",
    "\n",
    "# New test record: Home Owner = Yes, Marital Status = Married, Income = 120K\n",
    "test_record = [\n",
    "    le_home_owner.transform(['Yes'])[0],  # Home Owner\n",
    "    le_marital_status.transform(['Married'])[0],  # Marital Status\n",
    "    120  # Annual Income\n",
    "]\n",
    "\n",
    "# Predict class\n",
    "prediction_encoded = cat_nb.predict([test_record])\n",
    "prediction = le_defaulted.inverse_transform(prediction_encoded)\n",
    "\n",
    "print(f\"Predicted class for (Home Owner = Yes, Marital Status = Married, Income = 120K): {prediction[0]}\")\n"
   ]
  },
  {
   "cell_type": "code",
   "execution_count": null,
   "id": "0dcca7bc-2ba8-4e0a-8dac-c2072c128bdd",
   "metadata": {},
   "outputs": [],
   "source": []
  }
 ],
 "metadata": {
  "kernelspec": {
   "display_name": "Python 3 (ipykernel)",
   "language": "python",
   "name": "python3"
  },
  "language_info": {
   "codemirror_mode": {
    "name": "ipython",
    "version": 3
   },
   "file_extension": ".py",
   "mimetype": "text/x-python",
   "name": "python",
   "nbconvert_exporter": "python",
   "pygments_lexer": "ipython3",
   "version": "3.12.4"
  }
 },
 "nbformat": 4,
 "nbformat_minor": 5
}
