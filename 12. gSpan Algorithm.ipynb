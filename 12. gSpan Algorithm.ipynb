{
 "cells": [
  {
   "cell_type": "code",
   "execution_count": 17,
   "id": "9741cd58-03d2-49ce-9f4b-dad4790e88ee",
   "metadata": {},
   "outputs": [],
   "source": [
    "import networkx as nx\n",
    "import matplotlib.pyplot as plt"
   ]
  },
  {
   "cell_type": "code",
   "execution_count": 18,
   "id": "d947f0af-b7f8-4aad-8e47-1c1086e0e191",
   "metadata": {},
   "outputs": [],
   "source": [
    "class Graph:\n",
    "    def __init__(self, graph_id):\n",
    "        self.graph_id = graph_id\n",
    "        self.edges = []\n",
    "        self.nodes = set()\n",
    "\n",
    "    def add_edge(self, u, v, label_u, label_v, edge_label):\n",
    "        self.edges.append((u, v, label_u, label_v, edge_label))\n",
    "        self.nodes.add(u)\n",
    "        self.nodes.add(v)"
   ]
  },
  {
   "cell_type": "code",
   "execution_count": 19,
   "id": "fe2c28e7-0f71-435b-9ade-44e66b189c36",
   "metadata": {},
   "outputs": [],
   "source": [
    "class DFSCode:\n",
    "    def __init__(self):\n",
    "        self.dfs_code = []\n",
    "\n",
    "    def append(self, u, v, edge_label):\n",
    "        self.dfs_code.append((u, v, edge_label))"
   ]
  },
  {
   "cell_type": "code",
   "execution_count": 23,
   "id": "981209d5-7e13-47e0-a748-b018beb528ee",
   "metadata": {},
   "outputs": [],
   "source": [
    "class gSpan:\n",
    "    def __init__(self, min_support):\n",
    "        self.min_support = min_support\n",
    "        self.graphs = []\n",
    "        self.frequent_subgraphs = []\n",
    "\n",
    "    def load_graphs(self, graph_database):\n",
    "        self.graphs = graph_database\n",
    "\n",
    "    def find_frequent_subgraphs(self):\n",
    "        for graph in self.graphs:\n",
    "            self.dfs(graph, DFSCode(), 0)\n",
    "        return self.frequent_subgraphs\n",
    "\n",
    "    def dfs(self, graph, dfs_code, depth):\n",
    "        if self.is_frequent(dfs_code):\n",
    "            self.frequent_subgraphs.append(dfs_code.dfs_code)\n",
    "            candidates = self.generate_candidates(dfs_code, graph)\n",
    "            for candidate in candidates:\n",
    "                self.dfs(graph, candidate, depth + 1)\n",
    "\n",
    "    def is_frequent(self, dfs_code):\n",
    "        support_count = 0\n",
    "        for graph in self.graphs:\n",
    "            if self.contains_subgraph(graph, dfs_code):\n",
    "                support_count += 1\n",
    "        return support_count >= self.min_support\n",
    "\n",
    "    def generate_candidates(self, dfs_code, graph):\n",
    "        candidates = []\n",
    "        # Extend the current DFS code and create new candidates (simplified for now)\n",
    "        return candidates\n",
    "\n",
    "    def contains_subgraph(self, graph, dfs_code):\n",
    "        # Simplified for demonstration purposes\n",
    "        return True\n",
    "\n",
    "    def visualize_graph(self, graph):\n",
    "        G = nx.Graph()\n",
    "        for edge in graph.edges:\n",
    "            u, v, label_u, label_v, edge_label = edge\n",
    "            G.add_node(u, label=label_u)\n",
    "            G.add_node(v, label=label_v)\n",
    "            G.add_edge(u, v, label=edge_label)\n",
    "\n",
    "        pos = nx.spring_layout(G)\n",
    "        labels = nx.get_edge_attributes(G, 'label')\n",
    "        node_labels = nx.get_node_attributes(G, 'label')\n",
    "\n",
    "        nx.draw(G, pos, with_labels=True, labels=node_labels, node_color='lightblue', font_weight='bold')\n",
    "        nx.draw_networkx_edge_labels(G, pos, edge_labels=labels)\n",
    "        plt.show()"
   ]
  },
  {
   "cell_type": "code",
   "execution_count": 21,
   "id": "35befb37-a4d5-4af8-a93e-3512453735de",
   "metadata": {},
   "outputs": [],
   "source": [
    "def create_sample_graphs():\n",
    "    # Graph 1\n",
    "    graph1 = Graph(graph_id=1)\n",
    "    graph1.add_edge(1, 2, 'A', 'B', 'x')\n",
    "    graph1.add_edge(2, 3, 'B', 'C', 'y')\n",
    "\n",
    "    # Graph 2\n",
    "    graph2 = Graph(graph_id=2)\n",
    "    graph2.add_edge(1, 2, 'A', 'B', 'x')\n",
    "    graph2.add_edge(2, 4, 'B', 'D', 'z')\n",
    "\n",
    "    return [graph1, graph2]"
   ]
  },
  {
   "cell_type": "code",
   "execution_count": 22,
   "id": "e6fb9366-1faa-4f3a-8429-91fa3f11380d",
   "metadata": {},
   "outputs": [
    {
     "name": "stdout",
     "output_type": "stream",
     "text": [
      "Visualizing Graph 1\n"
     ]
    },
    {
     "data": {
      "image/png": "[encoded data removed]",
      "text/plain": [
       "<Figure size 640x480 with 1 Axes>"
      ]
     },
     "metadata": {},
     "output_type": "display_data"
    },
    {
     "name": "stdout",
     "output_type": "stream",
     "text": [
      "Visualizing Graph 2\n"
     ]
    },
    {
     "data": {
      "image/png": "[encoded data removed]",
      "text/plain": [
       "<Figure size 640x480 with 1 Axes>"
      ]
     },
     "metadata": {},
     "output_type": "display_data"
    }
   ],
   "source": [
    "# Main execution\n",
    "gspan = gSpan(min_support=1)\n",
    "graph_database = create_sample_graphs()\n",
    "gspan.load_graphs(graph_database)\n",
    "\n",
    "# Find frequent subgraphs (simplified)\n",
    "frequent_subgraphs = gspan.find_frequent_subgraphs()\n",
    "\n",
    "# Visualize the sample graphs\n",
    "for graph in graph_database:\n",
    "    print(f\"Visualizing Graph {graph.graph_id}\")\n",
    "    gspan.visualize_graph(graph)\n"
   ]
  }
 ],
 "metadata": {
  "kernelspec": {
   "display_name": "Python 3 (ipykernel)",
   "language": "python",
   "name": "python3"
  },
  "language_info": {
   "codemirror_mode": {
    "name": "ipython",
    "version": 3
   },
   "file_extension": ".py",
   "mimetype": "text/x-python",
   "name": "python",
   "nbconvert_exporter": "python",
   "pygments_lexer": "ipython3",
   "version": "3.12.4"
  }
 },
 "nbformat": 4,
 "nbformat_minor": 5
}
